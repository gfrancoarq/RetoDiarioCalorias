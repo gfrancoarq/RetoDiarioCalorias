{
  "nbformat": 4,
  "nbformat_minor": 0,
  "metadata": {
    "colab": {
      "provenance": []
    },
    "kernelspec": {
      "name": "python3",
      "display_name": "Python 3"
    },
    "language_info": {
      "name": "python"
    }
  },
  "cells": [
    {
      "cell_type": "markdown",
      "source": [
        "# SprintM3_GustavoFranco"
      ],
      "metadata": {
        "id": "KMyo2jZi2HaI"
      }
    },
    {
      "cell_type": "markdown",
      "source": [
        "## Repositorio en Github:\n",
        "[Proyecto RetoDiarioCalorias ](https://github.com/gfrancoarq/RetoDiarioCalorias)"
      ],
      "metadata": {
        "id": "GCATOnc_GUU4"
      }
    },
    {
      "cell_type": "markdown",
      "source": [
        "Crear un programa utilizando la librería que realice lo siguiente:\n",
        "1. Crear el siguiente DataFrame indexado:"
      ],
      "metadata": {
        "id": "JF__078Y1NH4"
      }
    },
    {
      "cell_type": "code",
      "execution_count": 33,
      "metadata": {
        "colab": {
          "base_uri": "https://localhost:8080/"
        },
        "id": "7gEN1SECtY1q",
        "outputId": "e06e33a7-85b7-4a39-ec4c-174212961872"
      },
      "outputs": [
        {
          "output_type": "stream",
          "name": "stdout",
          "text": [
            "   calorias  tiempo\n",
            "L       420      60\n",
            "M       380      40\n",
            "X       390      75\n",
            "J       490      55\n",
            "V       300      45\n"
          ]
        }
      ],
      "source": [
        "# Importamos pandas para hacer el df\n",
        "import pandas as pd\n",
        "import matplotlib.pyplot as plt\n",
        "\n",
        "# Creamos un diccionario con los datos\n",
        "datos = {\n",
        "    \"L\": {\"calorias\": 420, \"tiempo\": 60},\n",
        "    \"M\": {\"calorias\": 380, \"tiempo\": 40},\n",
        "    \"X\": {\"calorias\": 390, \"tiempo\": 75},\n",
        "    \"J\": {\"calorias\": 490, \"tiempo\": 55},\n",
        "    \"V\": {\"calorias\": 300, \"tiempo\": 45},\n",
        "}\n",
        "\n",
        "# Especificamos las columnas del DataFrame\n",
        "columnas = [\"calorias\", \"tiempo\"]\n",
        "\n",
        "# Creamos el DataFrame vacío con las columnas especificadas\n",
        "df = pd.DataFrame(columns=columnas)\n",
        "\n",
        "# Agregamos los datos del diccionario al DataFrame\n",
        "for dia, valores in datos.items():\n",
        "    df.loc[dia] = valores\n",
        "\n",
        "# Mostramos el DataFrame\n",
        "print(df.to_string())\n"
      ]
    },
    {
      "cell_type": "markdown",
      "source": [
        "2. Calcular la media, mediana, y desviación típica de ambas columnas."
      ],
      "metadata": {
        "id": "Qv5o5d1h1eSD"
      }
    },
    {
      "cell_type": "code",
      "source": [
        "# Calculamos la media, mediana y desviación típica de ambas columnas\n",
        "calorias_media = df['calorias'].mean()\n",
        "calorias_mediana = df['calorias'].median()\n",
        "calorias_desviacion_tipica = df['calorias'].std()\n",
        "\n",
        "tiempo_media = df['tiempo'].mean()\n",
        "tiempo_mediana = df['tiempo'].median()\n",
        "tiempo_desviacion_tipica = df['tiempo'].std()\n",
        "\n",
        "# Mostramos los resultados\n",
        "print(f\"Calorias:\")\n",
        "print(f\"Media: {calorias_media}\")\n",
        "print(f\"Mediana: {calorias_mediana}\")\n",
        "print(f\"Desviación típica: {calorias_desviacion_tipica}\")\n",
        "\n",
        "print(f\"\\nTiempo:\")\n",
        "print(f\"Media: {tiempo_media}\")\n",
        "print(f\"Mediana: {tiempo_mediana}\")\n",
        "print(f\"Desviación típica: {tiempo_desviacion_tipica}\")"
      ],
      "metadata": {
        "colab": {
          "base_uri": "https://localhost:8080/"
        },
        "id": "7WaoKCjA6Vvb",
        "outputId": "7670f5b3-fd45-4101-a2f2-f2e71c42fdbf"
      },
      "execution_count": 34,
      "outputs": [
        {
          "output_type": "stream",
          "name": "stdout",
          "text": [
            "Calorias:\n",
            "Media: 396.0\n",
            "Mediana: 390.0\n",
            "Desviación típica: 68.7749954561976\n",
            "\n",
            "Tiempo:\n",
            "Media: 55.0\n",
            "Mediana: 55.0\n",
            "Desviación típica: 13.693063937629153\n"
          ]
        }
      ]
    },
    {
      "cell_type": "markdown",
      "source": [
        "3. Añadir otra columna booleana al DataFrame para ver si se ha\n",
        "cumplido el reto de quemar más de 400 calorías por hora. La nueva\n",
        "columna debe generarse aplicando una fórmula a las otras columnas."
      ],
      "metadata": {
        "id": "2BMsCUgp_fBb"
      }
    },
    {
      "cell_type": "code",
      "source": [
        "# Calculamos la columna \"reto\"\n",
        "df['reto'] = (df['calorias'] / df['tiempo']) > 400 / 60\n",
        "\n",
        "# Mostramos el DataFrame\n",
        "print(df.to_string())\n"
      ],
      "metadata": {
        "colab": {
          "base_uri": "https://localhost:8080/"
        },
        "id": "ZHnwpdwo_fpA",
        "outputId": "caf71fc0-974a-4a20-a35c-3ebc0f9b9343"
      },
      "execution_count": 35,
      "outputs": [
        {
          "output_type": "stream",
          "name": "stdout",
          "text": [
            "   calorias  tiempo   reto\n",
            "L       420      60   True\n",
            "M       380      40   True\n",
            "X       390      75  False\n",
            "J       490      55   True\n",
            "V       300      45  False\n"
          ]
        }
      ]
    },
    {
      "cell_type": "markdown",
      "source": [
        "4. Filtrar el DataFrame y devolver otro DataFrame con las filas pares que\n",
        "cumplan que el número de calorías es mayor de 400."
      ],
      "metadata": {
        "id": "-d4DrsqkDQOR"
      }
    },
    {
      "cell_type": "code",
      "source": [
        "# Filtrar filas pares\n",
        "df_pares = df.iloc[1::2]\n",
        "\n",
        "# Filtrar por calorías mayores a 400\n",
        "df_filtrado = df_pares[df_pares['calorias'] > 400]\n",
        "\n",
        "# Mostrar el DataFrame original\n",
        "print(\"DataFrame original:\")\n",
        "print(df.to_string())\n",
        "\n",
        "# Mostrar el DataFrame filtrado\n",
        "print(\"DataFrame filtrado:\")\n",
        "print(df_filtrado.to_string())"
      ],
      "metadata": {
        "colab": {
          "base_uri": "https://localhost:8080/"
        },
        "id": "peihT7ZoDQrd",
        "outputId": "d392b1df-5756-4dff-b23c-d3cc58744682"
      },
      "execution_count": 36,
      "outputs": [
        {
          "output_type": "stream",
          "name": "stdout",
          "text": [
            "DataFrame original:\n",
            "   calorias  tiempo   reto\n",
            "L       420      60   True\n",
            "M       380      40   True\n",
            "X       390      75  False\n",
            "J       490      55   True\n",
            "V       300      45  False\n",
            "DataFrame filtrado:\n",
            "   calorias  tiempo  reto\n",
            "J       490      55  True\n"
          ]
        }
      ]
    },
    {
      "cell_type": "markdown",
      "source": [
        "5. Crear a partir del DataFrame una serie con los porcentajes de días que\n",
        "se ha conseguido el reto y los que no."
      ],
      "metadata": {
        "id": "GG2w8szzEpF3"
      }
    },
    {
      "cell_type": "code",
      "source": [
        "# Contar el número de días\n",
        "total_dias = df.shape[0]\n",
        "\n",
        "# Contar el número de días con el reto conseguido\n",
        "dias_reto_conseguido = df['reto'].eq(True).sum()\n",
        "\n",
        "# Calcular los porcentajes\n",
        "porcentaje_reto_conseguido = (dias_reto_conseguido / total_dias) * 100\n",
        "porcentaje_reto_no_conseguido = 100 - porcentaje_reto_conseguido\n",
        "\n",
        "# Crear la serie\n",
        "serie_porcentajes = pd.Series([porcentaje_reto_conseguido, porcentaje_reto_no_conseguido], index=['Reto conseguido', 'Reto no conseguido'])\n",
        "\n",
        "# Mostrar la serie\n",
        "print(serie_porcentajes.to_string())"
      ],
      "metadata": {
        "colab": {
          "base_uri": "https://localhost:8080/"
        },
        "id": "sO4EWb6hEpkD",
        "outputId": "1ef1ad33-e633-4a44-afc8-b835cfd8afc3"
      },
      "execution_count": 37,
      "outputs": [
        {
          "output_type": "stream",
          "name": "stdout",
          "text": [
            "Reto conseguido       60.0\n",
            "Reto no conseguido    40.0\n"
          ]
        }
      ]
    },
    {
      "cell_type": "markdown",
      "source": [
        "6. Crear un gráfico como el de más abajo que muestre la progresión de\n",
        "las calorías y tiempo durante la semana."
      ],
      "metadata": {
        "id": "XYhykjooFIeu"
      }
    },
    {
      "cell_type": "code",
      "source": [
        "# Seleccionamos las columnas\n",
        "calorias = df['calorias']\n",
        "tiempo = df['tiempo']\n",
        "\n",
        "# Creamos el gráfico de líneas\n",
        "plt.plot(calorias, label='Calorías')\n",
        "plt.plot(tiempo, label='Tiempo')\n",
        "\n",
        "# Personalizamos el gráfico\n",
        "plt.title('Progresión de calorías y tiempo durante la semana')\n",
        "plt.xlabel('Día')\n",
        "plt.ylabel('Valor')\n",
        "plt.legend()\n",
        "\n",
        "# Mostramos el gráfico\n",
        "plt.show()"
      ],
      "metadata": {
        "colab": {
          "base_uri": "https://localhost:8080/",
          "height": 472
        },
        "id": "qX1yJQ_1FSdo",
        "outputId": "b173db83-2f70-4f1a-d1be-d1c1f052212b"
      },
      "execution_count": 38,
      "outputs": [
        {
          "output_type": "display_data",
          "data": {
            "text/plain": [
              "<Figure size 640x480 with 1 Axes>"
            ],
            "image/png": "[encoded data removed]"
          },
          "metadata": {}
        }
      ]
    }
  ]
}